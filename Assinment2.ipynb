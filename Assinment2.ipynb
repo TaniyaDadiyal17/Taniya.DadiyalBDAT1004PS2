{
 "cells": [
  {
   "cell_type": "code",
   "execution_count": 120,
   "metadata": {},
   "outputs": [],
   "source": [
    "# QUESTION 1\n",
    "a = 0 \n",
    "def b():\n",
    " global a \n",
    " a = c(a)\n",
    "def c(a): \n",
    " return a + 2"
   ]
  },
  {
   "cell_type": "code",
   "execution_count": 121,
   "metadata": {},
   "outputs": [],
   "source": [
    "b()"
   ]
  },
  {
   "cell_type": "code",
   "execution_count": 122,
   "metadata": {},
   "outputs": [
    {
     "data": {
      "text/plain": [
       "2"
      ]
     },
     "execution_count": 122,
     "metadata": {},
     "output_type": "execute_result"
    }
   ],
   "source": [
    "a"
   ]
  },
  {
   "cell_type": "code",
   "execution_count": 48,
   "metadata": {},
   "outputs": [],
   "source": [
    "# QUESTION 5\n",
    "def binary(n):\n",
    "    s = str(n % 2)\n",
    "\n",
    "    if n >> 1 > 0:\n",
    "        s += binary(n >> 1)\n",
    "\n",
    "    return s"
   ]
  },
  {
   "cell_type": "code",
   "execution_count": 49,
   "metadata": {},
   "outputs": [
    {
     "data": {
      "text/plain": [
       "'0'"
      ]
     },
     "execution_count": 49,
     "metadata": {},
     "output_type": "execute_result"
    }
   ],
   "source": [
    "binary(0)"
   ]
  },
  {
   "cell_type": "code",
   "execution_count": 50,
   "metadata": {},
   "outputs": [
    {
     "data": {
      "text/plain": [
       "'1'"
      ]
     },
     "execution_count": 50,
     "metadata": {},
     "output_type": "execute_result"
    }
   ],
   "source": [
    "binary(1)"
   ]
  },
  {
   "cell_type": "code",
   "execution_count": 51,
   "metadata": {},
   "outputs": [
    {
     "data": {
      "text/plain": [
       "'11'"
      ]
     },
     "execution_count": 51,
     "metadata": {},
     "output_type": "execute_result"
    }
   ],
   "source": [
    "binary(3)"
   ]
  },
  {
   "cell_type": "code",
   "execution_count": 52,
   "metadata": {},
   "outputs": [
    {
     "data": {
      "text/plain": [
       "'1001'"
      ]
     },
     "execution_count": 52,
     "metadata": {},
     "output_type": "execute_result"
    }
   ],
   "source": [
    "binary(9)"
   ]
  },
  {
   "cell_type": "code",
   "execution_count": 57,
   "metadata": {},
   "outputs": [
    {
     "name": "stdout",
     "output_type": "stream",
     "text": [
      "Requirement already satisfied: ipython-sql in c:\\users\\taniya laptop\\anaconda3\\lib\\site-packages (0.4.0)\n",
      "Requirement already satisfied: ipython-genutils>=0.1.0 in c:\\users\\taniya laptop\\anaconda3\\lib\\site-packages (from ipython-sql) (0.2.0)\n",
      "Requirement already satisfied: sqlparse in c:\\users\\taniya laptop\\anaconda3\\lib\\site-packages (from ipython-sql) (0.4.1)\n",
      "Requirement already satisfied: ipython>=1.0 in c:\\users\\taniya laptop\\anaconda3\\lib\\site-packages (from ipython-sql) (7.19.0)\n",
      "Requirement already satisfied: prettytable<1 in c:\\users\\taniya laptop\\anaconda3\\lib\\site-packages (from ipython-sql) (0.7.2)\n",
      "Requirement already satisfied: six in c:\\users\\taniya laptop\\anaconda3\\lib\\site-packages (from ipython-sql) (1.15.0)\n",
      "Requirement already satisfied: sqlalchemy>=0.6.7 in c:\\users\\taniya laptop\\anaconda3\\lib\\site-packages (from ipython-sql) (1.3.20)\n",
      "Requirement already satisfied: pickleshare in c:\\users\\taniya laptop\\anaconda3\\lib\\site-packages (from ipython>=1.0->ipython-sql) (0.7.5)\n",
      "Requirement already satisfied: pygments in c:\\users\\taniya laptop\\anaconda3\\lib\\site-packages (from ipython>=1.0->ipython-sql) (2.7.2)\n",
      "Requirement already satisfied: backcall in c:\\users\\taniya laptop\\anaconda3\\lib\\site-packages (from ipython>=1.0->ipython-sql) (0.2.0)\n",
      "Requirement already satisfied: traitlets>=4.2 in c:\\users\\taniya laptop\\anaconda3\\lib\\site-packages (from ipython>=1.0->ipython-sql) (5.0.5)\n",
      "Requirement already satisfied: decorator in c:\\users\\taniya laptop\\anaconda3\\lib\\site-packages (from ipython>=1.0->ipython-sql) (4.4.2)\n",
      "Requirement already satisfied: jedi>=0.10 in c:\\users\\taniya laptop\\anaconda3\\lib\\site-packages (from ipython>=1.0->ipython-sql) (0.17.1)\n",
      "Requirement already satisfied: colorama; sys_platform == \"win32\" in c:\\users\\taniya laptop\\anaconda3\\lib\\site-packages (from ipython>=1.0->ipython-sql) (0.4.4)\n",
      "Requirement already satisfied: setuptools>=18.5 in c:\\users\\taniya laptop\\anaconda3\\lib\\site-packages (from ipython>=1.0->ipython-sql) (50.3.1.post20201107)\n",
      "Requirement already satisfied: prompt-toolkit!=3.0.0,!=3.0.1,<3.1.0,>=2.0.0 in c:\\users\\taniya laptop\\anaconda3\\lib\\site-packages (from ipython>=1.0->ipython-sql) (3.0.8)\n",
      "Requirement already satisfied: parso<0.8.0,>=0.7.0 in c:\\users\\taniya laptop\\anaconda3\\lib\\site-packages (from jedi>=0.10->ipython>=1.0->ipython-sql) (0.7.0)\n",
      "Requirement already satisfied: wcwidth in c:\\users\\taniya laptop\\anaconda3\\lib\\site-packages (from prompt-toolkit!=3.0.0,!=3.0.1,<3.1.0,>=2.0.0->ipython>=1.0->ipython-sql) (0.2.5)\n"
     ]
    }
   ],
   "source": [
    "!pip install ipython-sql"
   ]
  },
  {
   "cell_type": "code",
   "execution_count": 62,
   "metadata": {},
   "outputs": [
    {
     "name": "stdout",
     "output_type": "stream",
     "text": [
      "The sql extension is already loaded. To reload it, use:\n",
      "  %reload_ext sql\n"
     ]
    }
   ],
   "source": [
    "%load_ext sql"
   ]
  },
  {
   "cell_type": "code",
   "execution_count": 68,
   "metadata": {},
   "outputs": [],
   "source": [
    "%sql sqlite://"
   ]
  },
  {
   "cell_type": "code",
   "execution_count": 76,
   "metadata": {},
   "outputs": [
    {
     "name": "stdout",
     "output_type": "stream",
     "text": [
      " * sqlite://\n",
      "(sqlite3.OperationalError) table Temp already exists\n",
      "[SQL: CREATE TABLE Temp(City varchar(50), Country varchar(50), Season varchar(50),\n",
      "                     Temperature_C varchar(50), Rainfall_mm varchar(50));]\n",
      "(Background on this error at: http://sqlalche.me/e/13/e3q8)\n"
     ]
    }
   ],
   "source": [
    "# QUESTION 8\n",
    "%%sql   \n",
    "CREATE TABLE Temp(City varchar(50), Country varchar(50), Season varchar(50),\n",
    "                     Temperature_C varchar(50), Rainfall_mm varchar(50));\n"
   ]
  },
  {
   "cell_type": "code",
   "execution_count": 78,
   "metadata": {},
   "outputs": [
    {
     "name": "stdout",
     "output_type": "stream",
     "text": [
      " * sqlite://\n",
      "1 rows affected.\n",
      "1 rows affected.\n",
      "1 rows affected.\n",
      "1 rows affected.\n",
      "1 rows affected.\n",
      "1 rows affected.\n",
      "1 rows affected.\n",
      "1 rows affected.\n",
      "1 rows affected.\n",
      "1 rows affected.\n",
      "1 rows affected.\n",
      "1 rows affected.\n"
     ]
    },
    {
     "data": {
      "text/plain": [
       "[]"
      ]
     },
     "execution_count": 78,
     "metadata": {},
     "output_type": "execute_result"
    }
   ],
   "source": [
    "%%sql\n",
    "INSERT INTO Temp VALUES('Mumbai','India','Winter','24.8','5.9');  \n",
    "INSERT INTO Temp VALUES('Mumbai','India','Spring','28.4','16.2');\n",
    "INSERT INTO Temp VALUES('Mumbai','India','Summer','27.9','1549.4');\n",
    "INSERT INTO Temp VALUES('Mumbai','India','Fall','27.6','346.0');\n",
    "INSERT INTO Temp VALUES('London','United Kingdom','Winter','4.2','207.7');\n",
    "INSERT INTO Temp VALUES('London','United Kingdom','Spring','8.3','169.6');\n",
    "INSERT INTO Temp VALUES('London','United Kingdom','Summer','15.7','157.0');\n",
    "INSERT INTO Temp VALUES('London','United Kingdom','Fall','10.4','218.5');\n",
    "INSERT INTO Temp VALUES('Cairo','Egypt','Winter','13.6','16.5');\n",
    "INSERT INTO Temp VALUES('Cairo','Egypt','Spring','20.7','6.5');\n",
    "INSERT INTO Temp VALUES('Cairo','Egypt','Summer','27.7','0.1');\n",
    "INSERT INTO Temp VALUES('Cairo','Egypt','Fall','22.2','4.5');"
   ]
  },
  {
   "cell_type": "code",
   "execution_count": 79,
   "metadata": {},
   "outputs": [
    {
     "name": "stdout",
     "output_type": "stream",
     "text": [
      " * sqlite://\n",
      "Done.\n"
     ]
    },
    {
     "data": {
      "text/html": [
       "<table>\n",
       "    <tr>\n",
       "        <th>City</th>\n",
       "        <th>Country</th>\n",
       "        <th>Season</th>\n",
       "        <th>Temperature_C</th>\n",
       "        <th>Rainfall_mm</th>\n",
       "    </tr>\n",
       "    <tr>\n",
       "        <td>Mumbai</td>\n",
       "        <td>India</td>\n",
       "        <td>Winter</td>\n",
       "        <td>24.8</td>\n",
       "        <td>5.9</td>\n",
       "    </tr>\n",
       "    <tr>\n",
       "        <td>Mumbai</td>\n",
       "        <td>India</td>\n",
       "        <td>Spring</td>\n",
       "        <td>28.4</td>\n",
       "        <td>16.2</td>\n",
       "    </tr>\n",
       "    <tr>\n",
       "        <td>Mumbai</td>\n",
       "        <td>India</td>\n",
       "        <td>Summer</td>\n",
       "        <td>27.9</td>\n",
       "        <td>1549.4</td>\n",
       "    </tr>\n",
       "    <tr>\n",
       "        <td>Mumbai</td>\n",
       "        <td>India</td>\n",
       "        <td>Fall</td>\n",
       "        <td>27.6</td>\n",
       "        <td>346.0</td>\n",
       "    </tr>\n",
       "    <tr>\n",
       "        <td>London</td>\n",
       "        <td>United Kingdom</td>\n",
       "        <td>Winter</td>\n",
       "        <td>4.2</td>\n",
       "        <td>207.7</td>\n",
       "    </tr>\n",
       "    <tr>\n",
       "        <td>London</td>\n",
       "        <td>United Kingdom</td>\n",
       "        <td>Spring</td>\n",
       "        <td>8.3</td>\n",
       "        <td>169.6</td>\n",
       "    </tr>\n",
       "    <tr>\n",
       "        <td>London</td>\n",
       "        <td>United Kingdom</td>\n",
       "        <td>Summer</td>\n",
       "        <td>15.7</td>\n",
       "        <td>157.0</td>\n",
       "    </tr>\n",
       "    <tr>\n",
       "        <td>London</td>\n",
       "        <td>United Kingdom</td>\n",
       "        <td>Fall</td>\n",
       "        <td>10.4</td>\n",
       "        <td>218.5</td>\n",
       "    </tr>\n",
       "    <tr>\n",
       "        <td>Cairo</td>\n",
       "        <td>Egypt</td>\n",
       "        <td>Winter</td>\n",
       "        <td>13.6</td>\n",
       "        <td>16.5</td>\n",
       "    </tr>\n",
       "    <tr>\n",
       "        <td>Cairo</td>\n",
       "        <td>Egypt</td>\n",
       "        <td>Spring</td>\n",
       "        <td>20.7</td>\n",
       "        <td>6.5</td>\n",
       "    </tr>\n",
       "    <tr>\n",
       "        <td>Cairo</td>\n",
       "        <td>Egypt</td>\n",
       "        <td>Summer</td>\n",
       "        <td>27.7</td>\n",
       "        <td>0.1</td>\n",
       "    </tr>\n",
       "    <tr>\n",
       "        <td>Cairo</td>\n",
       "        <td>Egypt</td>\n",
       "        <td>Fall</td>\n",
       "        <td>22.2</td>\n",
       "        <td>4.5</td>\n",
       "    </tr>\n",
       "</table>"
      ],
      "text/plain": [
       "[('Mumbai', 'India', 'Winter', '24.8', '5.9'),\n",
       " ('Mumbai', 'India', 'Spring', '28.4', '16.2'),\n",
       " ('Mumbai', 'India', 'Summer', '27.9', '1549.4'),\n",
       " ('Mumbai', 'India', 'Fall', '27.6', '346.0'),\n",
       " ('London', 'United Kingdom', 'Winter', '4.2', '207.7'),\n",
       " ('London', 'United Kingdom', 'Spring', '8.3', '169.6'),\n",
       " ('London', 'United Kingdom', 'Summer', '15.7', '157.0'),\n",
       " ('London', 'United Kingdom', 'Fall', '10.4', '218.5'),\n",
       " ('Cairo', 'Egypt', 'Winter', '13.6', '16.5'),\n",
       " ('Cairo', 'Egypt', 'Spring', '20.7', '6.5'),\n",
       " ('Cairo', 'Egypt', 'Summer', '27.7', '0.1'),\n",
       " ('Cairo', 'Egypt', 'Fall', '22.2', '4.5')]"
      ]
     },
     "execution_count": 79,
     "metadata": {},
     "output_type": "execute_result"
    }
   ],
   "source": [
    "%%sql\n",
    "SELECT * FROM Temp;"
   ]
  },
  {
   "cell_type": "code",
   "execution_count": 80,
   "metadata": {},
   "outputs": [
    {
     "name": "stdout",
     "output_type": "stream",
     "text": [
      " * sqlite://\n",
      "Done.\n"
     ]
    },
    {
     "data": {
      "text/html": [
       "<table>\n",
       "    <tr>\n",
       "        <th>City</th>\n",
       "        <th>Country</th>\n",
       "        <th>Season</th>\n",
       "        <th>Temperature_C</th>\n",
       "    </tr>\n",
       "    <tr>\n",
       "        <td>Mumbai</td>\n",
       "        <td>India</td>\n",
       "        <td>Winter</td>\n",
       "        <td>24.8</td>\n",
       "    </tr>\n",
       "    <tr>\n",
       "        <td>Mumbai</td>\n",
       "        <td>India</td>\n",
       "        <td>Spring</td>\n",
       "        <td>28.4</td>\n",
       "    </tr>\n",
       "    <tr>\n",
       "        <td>Mumbai</td>\n",
       "        <td>India</td>\n",
       "        <td>Summer</td>\n",
       "        <td>27.9</td>\n",
       "    </tr>\n",
       "    <tr>\n",
       "        <td>Mumbai</td>\n",
       "        <td>India</td>\n",
       "        <td>Fall</td>\n",
       "        <td>27.6</td>\n",
       "    </tr>\n",
       "    <tr>\n",
       "        <td>London</td>\n",
       "        <td>United Kingdom</td>\n",
       "        <td>Winter</td>\n",
       "        <td>4.2</td>\n",
       "    </tr>\n",
       "    <tr>\n",
       "        <td>London</td>\n",
       "        <td>United Kingdom</td>\n",
       "        <td>Spring</td>\n",
       "        <td>8.3</td>\n",
       "    </tr>\n",
       "    <tr>\n",
       "        <td>London</td>\n",
       "        <td>United Kingdom</td>\n",
       "        <td>Summer</td>\n",
       "        <td>15.7</td>\n",
       "    </tr>\n",
       "    <tr>\n",
       "        <td>London</td>\n",
       "        <td>United Kingdom</td>\n",
       "        <td>Fall</td>\n",
       "        <td>10.4</td>\n",
       "    </tr>\n",
       "    <tr>\n",
       "        <td>Cairo</td>\n",
       "        <td>Egypt</td>\n",
       "        <td>Winter</td>\n",
       "        <td>13.6</td>\n",
       "    </tr>\n",
       "    <tr>\n",
       "        <td>Cairo</td>\n",
       "        <td>Egypt</td>\n",
       "        <td>Spring</td>\n",
       "        <td>20.7</td>\n",
       "    </tr>\n",
       "    <tr>\n",
       "        <td>Cairo</td>\n",
       "        <td>Egypt</td>\n",
       "        <td>Summer</td>\n",
       "        <td>27.7</td>\n",
       "    </tr>\n",
       "    <tr>\n",
       "        <td>Cairo</td>\n",
       "        <td>Egypt</td>\n",
       "        <td>Fall</td>\n",
       "        <td>22.2</td>\n",
       "    </tr>\n",
       "</table>"
      ],
      "text/plain": [
       "[('Mumbai', 'India', 'Winter', '24.8'),\n",
       " ('Mumbai', 'India', 'Spring', '28.4'),\n",
       " ('Mumbai', 'India', 'Summer', '27.9'),\n",
       " ('Mumbai', 'India', 'Fall', '27.6'),\n",
       " ('London', 'United Kingdom', 'Winter', '4.2'),\n",
       " ('London', 'United Kingdom', 'Spring', '8.3'),\n",
       " ('London', 'United Kingdom', 'Summer', '15.7'),\n",
       " ('London', 'United Kingdom', 'Fall', '10.4'),\n",
       " ('Cairo', 'Egypt', 'Winter', '13.6'),\n",
       " ('Cairo', 'Egypt', 'Spring', '20.7'),\n",
       " ('Cairo', 'Egypt', 'Summer', '27.7'),\n",
       " ('Cairo', 'Egypt', 'Fall', '22.2')]"
      ]
     },
     "execution_count": 80,
     "metadata": {},
     "output_type": "execute_result"
    }
   ],
   "source": [
    "%%sql\n",
    "SELECT City, Country, Season, Temperature_C from Temp;"
   ]
  },
  {
   "cell_type": "code",
   "execution_count": 83,
   "metadata": {},
   "outputs": [
    {
     "name": "stdout",
     "output_type": "stream",
     "text": [
      " * sqlite://\n",
      "Done.\n"
     ]
    },
    {
     "data": {
      "text/html": [
       "<table>\n",
       "    <tr>\n",
       "        <th>City</th>\n",
       "        <th>Country</th>\n",
       "    </tr>\n",
       "    <tr>\n",
       "        <td>Mumbai</td>\n",
       "        <td>India</td>\n",
       "    </tr>\n",
       "    <tr>\n",
       "        <td>London</td>\n",
       "        <td>United Kingdom</td>\n",
       "    </tr>\n",
       "    <tr>\n",
       "        <td>Cairo</td>\n",
       "        <td>Egypt</td>\n",
       "    </tr>\n",
       "</table>"
      ],
      "text/plain": [
       "[('Mumbai', 'India'), ('London', 'United Kingdom'), ('Cairo', 'Egypt')]"
      ]
     },
     "execution_count": 83,
     "metadata": {},
     "output_type": "execute_result"
    }
   ],
   "source": [
    "%%sql\n",
    "SELECT distinct(City), Country from Temp;"
   ]
  },
  {
   "cell_type": "code",
   "execution_count": 84,
   "metadata": {},
   "outputs": [
    {
     "name": "stdout",
     "output_type": "stream",
     "text": [
      " * sqlite://\n",
      "Done.\n"
     ]
    },
    {
     "data": {
      "text/html": [
       "<table>\n",
       "    <tr>\n",
       "        <th>City</th>\n",
       "        <th>Country</th>\n",
       "        <th>Season</th>\n",
       "        <th>Temperature_C</th>\n",
       "        <th>Rainfall_mm</th>\n",
       "    </tr>\n",
       "    <tr>\n",
       "        <td>Mumbai</td>\n",
       "        <td>India</td>\n",
       "        <td>Winter</td>\n",
       "        <td>24.8</td>\n",
       "        <td>5.9</td>\n",
       "    </tr>\n",
       "    <tr>\n",
       "        <td>Mumbai</td>\n",
       "        <td>India</td>\n",
       "        <td>Spring</td>\n",
       "        <td>28.4</td>\n",
       "        <td>16.2</td>\n",
       "    </tr>\n",
       "    <tr>\n",
       "        <td>Mumbai</td>\n",
       "        <td>India</td>\n",
       "        <td>Summer</td>\n",
       "        <td>27.9</td>\n",
       "        <td>1549.4</td>\n",
       "    </tr>\n",
       "    <tr>\n",
       "        <td>Mumbai</td>\n",
       "        <td>India</td>\n",
       "        <td>Fall</td>\n",
       "        <td>27.6</td>\n",
       "        <td>346.0</td>\n",
       "    </tr>\n",
       "</table>"
      ],
      "text/plain": [
       "[('Mumbai', 'India', 'Winter', '24.8', '5.9'),\n",
       " ('Mumbai', 'India', 'Spring', '28.4', '16.2'),\n",
       " ('Mumbai', 'India', 'Summer', '27.9', '1549.4'),\n",
       " ('Mumbai', 'India', 'Fall', '27.6', '346.0')]"
      ]
     },
     "execution_count": 84,
     "metadata": {},
     "output_type": "execute_result"
    }
   ],
   "source": [
    "%%sql\n",
    "SELECT * from Temp\n",
    "where Country = 'India';"
   ]
  },
  {
   "cell_type": "code",
   "execution_count": 85,
   "metadata": {},
   "outputs": [
    {
     "name": "stdout",
     "output_type": "stream",
     "text": [
      " * sqlite://\n",
      "Done.\n"
     ]
    },
    {
     "data": {
      "text/html": [
       "<table>\n",
       "    <tr>\n",
       "        <th>City</th>\n",
       "        <th>Country</th>\n",
       "        <th>Season</th>\n",
       "        <th>Temperature_C</th>\n",
       "        <th>Rainfall_mm</th>\n",
       "    </tr>\n",
       "    <tr>\n",
       "        <td>Mumbai</td>\n",
       "        <td>India</td>\n",
       "        <td>Fall</td>\n",
       "        <td>27.6</td>\n",
       "        <td>346.0</td>\n",
       "    </tr>\n",
       "    <tr>\n",
       "        <td>London</td>\n",
       "        <td>United Kingdom</td>\n",
       "        <td>Fall</td>\n",
       "        <td>10.4</td>\n",
       "        <td>218.5</td>\n",
       "    </tr>\n",
       "    <tr>\n",
       "        <td>Cairo</td>\n",
       "        <td>Egypt</td>\n",
       "        <td>Fall</td>\n",
       "        <td>22.2</td>\n",
       "        <td>4.5</td>\n",
       "    </tr>\n",
       "</table>"
      ],
      "text/plain": [
       "[('Mumbai', 'India', 'Fall', '27.6', '346.0'),\n",
       " ('London', 'United Kingdom', 'Fall', '10.4', '218.5'),\n",
       " ('Cairo', 'Egypt', 'Fall', '22.2', '4.5')]"
      ]
     },
     "execution_count": 85,
     "metadata": {},
     "output_type": "execute_result"
    }
   ],
   "source": [
    "%%sql\n",
    "SELECT * from Temp\n",
    "where Season = 'Fall';"
   ]
  },
  {
   "cell_type": "code",
   "execution_count": 87,
   "metadata": {},
   "outputs": [
    {
     "name": "stdout",
     "output_type": "stream",
     "text": [
      " * sqlite://\n",
      "Done.\n"
     ]
    },
    {
     "data": {
      "text/html": [
       "<table>\n",
       "    <tr>\n",
       "        <th>City</th>\n",
       "        <th>Country</th>\n",
       "        <th>Season</th>\n",
       "        <th>Rainfall_mm</th>\n",
       "    </tr>\n",
       "    <tr>\n",
       "        <td>Mumbai</td>\n",
       "        <td>India</td>\n",
       "        <td>Fall</td>\n",
       "        <td>346.0</td>\n",
       "    </tr>\n",
       "    <tr>\n",
       "        <td>London</td>\n",
       "        <td>United Kingdom</td>\n",
       "        <td>Winter</td>\n",
       "        <td>207.7</td>\n",
       "    </tr>\n",
       "    <tr>\n",
       "        <td>London</td>\n",
       "        <td>United Kingdom</td>\n",
       "        <td>Fall</td>\n",
       "        <td>218.5</td>\n",
       "    </tr>\n",
       "    <tr>\n",
       "        <td>Cairo</td>\n",
       "        <td>Egypt</td>\n",
       "        <td>Fall</td>\n",
       "        <td>4.5</td>\n",
       "    </tr>\n",
       "</table>"
      ],
      "text/plain": [
       "[('Mumbai', 'India', 'Fall', '346.0'),\n",
       " ('London', 'United Kingdom', 'Winter', '207.7'),\n",
       " ('London', 'United Kingdom', 'Fall', '218.5'),\n",
       " ('Cairo', 'Egypt', 'Fall', '4.5')]"
      ]
     },
     "execution_count": 87,
     "metadata": {},
     "output_type": "execute_result"
    }
   ],
   "source": [
    "%%sql\n",
    "SELECT City, Country, Season, Rainfall_mm from Temp\n",
    "where Rainfall_mm > 200 AND Rainfall_mm < 400;"
   ]
  },
  {
   "cell_type": "code",
   "execution_count": 91,
   "metadata": {},
   "outputs": [
    {
     "name": "stdout",
     "output_type": "stream",
     "text": [
      " * sqlite://\n",
      "Done.\n"
     ]
    },
    {
     "data": {
      "text/html": [
       "<table>\n",
       "    <tr>\n",
       "        <th>City</th>\n",
       "        <th>Country</th>\n",
       "        <th>Fall_temp</th>\n",
       "    </tr>\n",
       "    <tr>\n",
       "        <td>Mumbai</td>\n",
       "        <td>India</td>\n",
       "        <td>20.066666666666666</td>\n",
       "    </tr>\n",
       "</table>"
      ],
      "text/plain": [
       "[('Mumbai', 'India', 20.066666666666666)]"
      ]
     },
     "execution_count": 91,
     "metadata": {},
     "output_type": "execute_result"
    }
   ],
   "source": [
    "%%sql\n",
    "Select City, Country, Avg(Temperature_C) as Fall_temp from Temp\n",
    "Group By Season\n",
    "having Season = 'Fall' AND Fall_Temp > 20\n",
    "Order BY Fall_temp ASC;"
   ]
  },
  {
   "cell_type": "code",
   "execution_count": 94,
   "metadata": {},
   "outputs": [
    {
     "name": "stdout",
     "output_type": "stream",
     "text": [
      " * sqlite://\n",
      "Done.\n"
     ]
    },
    {
     "data": {
      "text/html": [
       "<table>\n",
       "    <tr>\n",
       "        <th>City</th>\n",
       "        <th>Total_annual_rainfall</th>\n",
       "    </tr>\n",
       "    <tr>\n",
       "        <td>Cairo</td>\n",
       "        <td>27.6</td>\n",
       "    </tr>\n",
       "</table>"
      ],
      "text/plain": [
       "[('Cairo', 27.6)]"
      ]
     },
     "execution_count": 94,
     "metadata": {},
     "output_type": "execute_result"
    }
   ],
   "source": [
    "%%sql\n",
    "Select City, SUM(rainfall_mm) as Total_annual_rainfall from Temp\n",
    "where City = 'Cairo';"
   ]
  },
  {
   "cell_type": "code",
   "execution_count": 95,
   "metadata": {},
   "outputs": [
    {
     "name": "stdout",
     "output_type": "stream",
     "text": [
      " * sqlite://\n",
      "Done.\n"
     ]
    },
    {
     "data": {
      "text/html": [
       "<table>\n",
       "    <tr>\n",
       "        <th>Season</th>\n",
       "        <th>Total_annual_rainfall</th>\n",
       "    </tr>\n",
       "    <tr>\n",
       "        <td>Fall</td>\n",
       "        <td>569.0</td>\n",
       "    </tr>\n",
       "    <tr>\n",
       "        <td>Spring</td>\n",
       "        <td>192.29999999999998</td>\n",
       "    </tr>\n",
       "    <tr>\n",
       "        <td>Summer</td>\n",
       "        <td>1706.5</td>\n",
       "    </tr>\n",
       "    <tr>\n",
       "        <td>Winter</td>\n",
       "        <td>230.1</td>\n",
       "    </tr>\n",
       "</table>"
      ],
      "text/plain": [
       "[('Fall', 569.0),\n",
       " ('Spring', 192.29999999999998),\n",
       " ('Summer', 1706.5),\n",
       " ('Winter', 230.1)]"
      ]
     },
     "execution_count": 95,
     "metadata": {},
     "output_type": "execute_result"
    }
   ],
   "source": [
    "%%sql\n",
    "Select Season, SUM(rainfall_mm) as Total_annual_rainfall from Temp\n",
    "Group By Season;"
   ]
  },
  {
   "cell_type": "code",
   "execution_count": 110,
   "metadata": {},
   "outputs": [],
   "source": [
    "# QUESTION 4\n",
    "def collatz(n):\n",
    "    while n > 1:\n",
    "        print(n, end=' ')\n",
    "        if (n % 2):\n",
    "            # n is odd\n",
    "            n = 3*n + 1\n",
    "        else:\n",
    "            # n is even\n",
    "            n = n//2\n",
    "    print(1, end='')"
   ]
  },
  {
   "cell_type": "code",
   "execution_count": 111,
   "metadata": {},
   "outputs": [
    {
     "name": "stdout",
     "output_type": "stream",
     "text": [
      "1"
     ]
    }
   ],
   "source": [
    "collatz(1)"
   ]
  },
  {
   "cell_type": "code",
   "execution_count": 112,
   "metadata": {},
   "outputs": [
    {
     "name": "stdout",
     "output_type": "stream",
     "text": [
      "10 5 16 8 4 2 1"
     ]
    }
   ],
   "source": [
    "collatz(10)"
   ]
  },
  {
   "cell_type": "code",
   "execution_count": 137,
   "metadata": {},
   "outputs": [
    {
     "name": "stdout",
     "output_type": "stream",
     "text": [
      "File does not exist\n",
      "None\n",
      "File does not exist\n",
      "None\n"
     ]
    }
   ],
   "source": [
    "# QUESTION 2\n",
    "def filelenght(filename):\n",
    "    try:\n",
    "        infile = open(filename)\n",
    "        content = infile.read()\n",
    "        infile.close()\n",
    "        wordList = content.split()\n",
    "        return len(wordList)\n",
    "    except:\n",
    "        print('File does not exist')\n",
    "        \n",
    "print(filelenght('import.txt'))\n",
    "print(filelenght('impor.txt'))"
   ]
  },
  {
   "cell_type": "code",
   "execution_count": 145,
   "metadata": {},
   "outputs": [
    {
     "ename": "SyntaxError",
     "evalue": "cannot assign to operator (<ipython-input-145-566e0253b597>, line 4)",
     "output_type": "error",
     "traceback": [
      "\u001b[1;36m  File \u001b[1;32m\"<ipython-input-145-566e0253b597>\"\u001b[1;36m, line \u001b[1;32m4\u001b[0m\n\u001b[1;33m    tmp + list=[]\u001b[0m\n\u001b[1;37m    ^\u001b[0m\n\u001b[1;31mSyntaxError\u001b[0m\u001b[1;31m:\u001b[0m cannot assign to operator\n"
     ]
    }
   ],
   "source": [
    "#QUESTION 3\n",
    "class Maruspial():\n",
    "    def _init_(self, tmp_list=[]):\n",
    "        self.tmp_list = tmp_list\n",
    "        tmp + list=[]\n",
    "    def put_in_pouch(self,str_param):\n",
    "        self.tmp_list.append(str_param)\n",
    "    def pouch_contents(self):\n",
    "        return self.tmp_list\n",
    "    \n",
    "class kangaroo(Maruspial):\n",
    "    def _init_(self,x_cord, y_cord):\n",
    "        Maruspial._init_(self)\n",
    "        self.x_cord=x_cord\n",
    "        self.y_cord=y_cord\n",
    "    def _repr_(self):\n",
    "        return f'I am a Kangaroo located at coordinates{self.x_cord, self.y_cord}'\n",
    "    def jump(self,dx,dy):\n",
    "        self.x_cord+=dx\n",
    "        self.y_cord+=dy\n",
    "        \n",
    "a= Maruspial()\n",
    "a.put_in_pouch(\"Hello\")\n",
    "a.put_in_pouch(\"Hello1\")\n",
    "a.pouch_contents()\n",
    "\n",
    "k=Kangaroo(10, 10)\n",
    "print(k)\n",
    "k.put_in_pouch(\"Hello\")\n",
    "k.put_in_pouch(\"Hello1\")\n",
    "k.pouch_contents()\n",
    "\n",
    "k.jump(1, 2)\n",
    "print(k)"
   ]
  },
  {
   "cell_type": "code",
   "execution_count": 146,
   "metadata": {},
   "outputs": [
    {
     "name": "stdout",
     "output_type": "stream",
     "text": [
      "['THE', 'QUICK', 'BROWN', 'FOX', 'JUMPS', 'OVER', 'THE', 'LAZY', 'DOG']\n",
      "['the', 'quick', 'brown', 'fox', 'jumps', 'over', 'the', 'lazy', 'dog']\n",
      "[3, 5, 5, 3, 5, 4, 3, 4, 3]\n"
     ]
    }
   ],
   "source": [
    "words = ['The', 'quick', 'brown', 'fox', 'jumps', 'over',\n",
    "'the', 'lazy', 'dog']\n",
    "word = [x.upper() for x in words]\n",
    "print(word)\n",
    "word1 = [x.lower() for x in words]\n",
    "print(word1)\n",
    "num_words_list=[]\n",
    "for words in words:\n",
    "    num_words_list.append(len(words))\n",
    "print(num_words_list)"
   ]
  },
  {
   "cell_type": "code",
   "execution_count": 147,
   "metadata": {},
   "outputs": [
    {
     "name": "stdout",
     "output_type": "stream",
     "text": [
      "[['THE', 'the', 3],\n",
      " ['QUICK', 'quick', 5],\n",
      " ['BROWN', 'brown', 5],\n",
      " ['FOX', 'fox', 3],\n",
      " ['JUMPS', 'jumps', 5],\n",
      " ['OVER', 'over', 4],\n",
      " ['THE', 'the', 3],\n",
      " ['LAZY', 'lazy', 4],\n",
      " ['DOG', 'dog', 3]]\n"
     ]
    }
   ],
   "source": [
    "words = ['The', 'quick', 'brown', 'fox', 'jumps', 'over',\n",
    "'the', 'lazy', 'dog']\n",
    "stuff = [[w.upper(), w.lower(), len(w)] for w in words]\n",
    "from pprint import pprint\n",
    "pprint(stuff)"
   ]
  },
  {
   "cell_type": "code",
   "execution_count": null,
   "metadata": {},
   "outputs": [],
   "source": []
  }
 ],
 "metadata": {
  "kernelspec": {
   "display_name": "Python 3",
   "language": "python",
   "name": "python3"
  },
  "language_info": {
   "codemirror_mode": {
    "name": "ipython",
    "version": 3
   },
   "file_extension": ".py",
   "mimetype": "text/x-python",
   "name": "python",
   "nbconvert_exporter": "python",
   "pygments_lexer": "ipython3",
   "version": "3.8.5"
  }
 },
 "nbformat": 4,
 "nbformat_minor": 4
}
